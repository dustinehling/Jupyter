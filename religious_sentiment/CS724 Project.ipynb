{
 "cells": [
  {
   "attachments": {},
   "cell_type": "markdown",
   "id": "484b10ef",
   "metadata": {},
   "source": [
    "# ReadMe \n",
    "\n",
    "1. Prerequisites\n",
    "\n",
    "    - Java 1.8.0_191 (https://www.oracle.com/java/technologies/javase/javase8-archive-downloads.html)\n",
    "\n",
    "    - Python 3.10.11 (https://www.python.org/downloads/release/python-31011/)\n",
    "\n",
    "    - Apache Spark 3.0.0 with prebuilt Hadoop 2.7 (https://archive.apache.org/dist/spark/spark-3.0.0/)\n",
    "\n",
    "    - Visual Studio Code 1.77.3\n",
    "\n",
    "    - WinUtils.exe for Spark w/ Hadoop version above (https://github.com/cdarlint/winutils)\n",
    "\n",
    "2. Instructions\n",
    "\n",
    "    - Guide: https://towardsdatascience.com/installing-apache-pyspark-on-windows-10-f5f0c506bea1"
   ]
  },
  {
   "attachments": {},
   "cell_type": "markdown",
   "id": "f1838e35",
   "metadata": {},
   "source": [
    "# Implementation details\n",
    "\n",
    "1. Preprocessing Approach\n",
    "\n",
    "    - Normalize text to lowercase\n",
    "    - Removal of punctuation and special characters\n",
    "    - Removal of stop words\n",
    "    - Tokenize text into aan array\n",
    "\n",
    "2. Lexicon based sentiment scoring w/ AFINN (https://rdrr.io/cran/textdata/man/lexicon_afinn.html)\n",
    "\n",
    "    Serves as the \"ground truth\" approximation of sentiment in a text by utlizing map-reduce to count (word, count) in a tweet, then joins the AFINN dataframe such that each tweet may be labeled -1, 0, 1 for negative, neutral, positive sentiment based on a summing of matched words from AFINN and the corresponding score in [-5, 5].\n",
    "\n",
    "    A similar process was done for each grouping of religious text.\n",
    "\n",
    "    The computed cateegories here are used as the labels when building out ML models with MLlib in Apache Spark via th PySpark library.\n",
    "\n",
    "3. ML model building (https://spark.apache.org/docs/3.0.0/ml-guide.html)\n",
    "\n",
    "    - Logistic Regression w/ Count Vector\n",
    "\n",
    "    - Logistic Regression w/ TF-IDF\n",
    "\n",
    "    - Naive Bayes\n",
    "\n",
    "    - Decision Trees\n",
    "\n",
    "    - Random Forest\n",
    "\n",
    "    - OnevsRest \n",
    "\n",
    "4. ML model evaluation\n",
    "\n",
    "    - All models calculate accuracy rate"
   ]
  },
  {
   "attachments": {},
   "cell_type": "markdown",
   "id": "f457fd45",
   "metadata": {},
   "source": [
    "# Limitations of Approach\n",
    "\n",
    "    - System Resource Limitations\n",
    "\n",
    "        CPU: Ryzen 5 w/ 6 cores\n",
    "        RAM: 32 GB\n",
    "        DISK: ~250GB available\n",
    "\n",
    "        \n",
    "\n",
    "    - Scalability Issues "
   ]
  },
  {
   "attachments": {},
   "cell_type": "markdown",
   "id": "b12bb0cd",
   "metadata": {},
   "source": [
    "# Libraries"
   ]
  },
  {
   "cell_type": "code",
   "execution_count": 1,
   "id": "bcc327ca",
   "metadata": {},
   "outputs": [],
   "source": [
    "import findspark\n",
    "findspark.init()"
   ]
  },
  {
   "cell_type": "code",
   "execution_count": 92,
   "id": "22367015",
   "metadata": {},
   "outputs": [],
   "source": [
    "import re\n",
    "import string\n",
    "import sys\n",
    "import numpy as np\n",
    "import matplotlib.pyplot as plt\n",
    "import pandas as pd\n",
    "import pyspark.sql.types as T\n",
    "import pyspark.sql.functions as F\n",
    "from IPython.display import display_html \n",
    "from operator import add\n",
    "import py4j\n",
    "import pyspark  \n",
    "from pyspark import SparkContext\n",
    "from pyspark.sql import SQLContext\n",
    "from pyspark import SparkContext\n",
    "import pyspark.sql.types as T\n",
    "import pyspark.sql.functions as F\n",
    "from IPython.display import display_html\n",
    "from itertools import chain,cycle\n",
    "from pyspark.sql import SparkSession\n",
    "from wordcloud import (WordCloud, get_single_color_func)\n",
    "from pyspark.ml.feature import Tokenizer, StopWordsRemover, CountVectorizer, RegexTokenizer\n",
    "from pyspark.ml.classification import LogisticRegression\n",
    "from pyspark.ml.evaluation import BinaryClassificationEvaluator\n",
    "from pyspark.ml import Pipeline\n",
    "from pyspark.ml.feature import OneHotEncoder, StringIndexer, VectorAssembler\n",
    "from pyspark.ml import Pipeline\n",
    "from pyspark.sql.functions import udf\n",
    "from pyspark.sql.types import FloatType\n",
    "from pyspark.sql.window import Window\n",
    "from pyspark.storagelevel import StorageLevel"
   ]
  },
  {
   "attachments": {},
   "cell_type": "markdown",
   "id": "2f79a414",
   "metadata": {},
   "source": [
    "# Spark Contexts"
   ]
  },
  {
   "cell_type": "code",
   "execution_count": 3,
   "id": "f2e71ed2",
   "metadata": {},
   "outputs": [
    {
     "data": {
      "text/plain": [
       "[('spark.executor.memory', '2g'),\n",
       " ('spark.driver.port', '49618'),\n",
       " ('spark.driver.host', 'DESKTOP-U8NS6GD'),\n",
       " ('spark.rdd.compress', 'True'),\n",
       " ('spark.serializer.objectStreamReset', '100'),\n",
       " ('spark.driver.memory', '10g'),\n",
       " ('spark.master', 'local[*]'),\n",
       " ('spark.submit.pyFiles', ''),\n",
       " ('spark.executor.id', 'driver'),\n",
       " ('spark.submit.deployMode', 'client'),\n",
       " ('spark.app.name', 'CS724 Semester Project'),\n",
       " ('spark.app.id', 'local-1682926241869'),\n",
       " ('spark.ui.showConsoleProgress', 'true')]"
      ]
     },
     "execution_count": 3,
     "metadata": {},
     "output_type": "execute_result"
    }
   ],
   "source": [
    "spark = SparkSession.builder \\\n",
    "       .master(\"local[*]\") \\\n",
    "       .appName(\"CS724 Semester Project\") \\\n",
    "       .config(\"spark.driver.memory\", \"10g\") \\\n",
    "       .config(\"spark.executor.memory\", \"2g\") \\\n",
    "       .getOrCreate()\n",
    "\n",
    "sc = spark.sparkContext.getOrCreate()\n",
    "\n",
    "sqlContext = SQLContext(sc)\n",
    "\n",
    "spark.sparkContext._conf.getAll() "
   ]
  },
  {
   "cell_type": "code",
   "execution_count": 4,
   "id": "f5325093",
   "metadata": {},
   "outputs": [
    {
     "data": {
      "text/plain": [
       "'http://DESKTOP-U8NS6GD:4040'"
      ]
     },
     "execution_count": 4,
     "metadata": {},
     "output_type": "execute_result"
    }
   ],
   "source": [
    "sc.uiWebUrl"
   ]
  },
  {
   "attachments": {},
   "cell_type": "markdown",
   "id": "c6bcfaec",
   "metadata": {},
   "source": [
    "# I/O"
   ]
  },
  {
   "cell_type": "code",
   "execution_count": 5,
   "id": "36b85382",
   "metadata": {
    "scrolled": true
   },
   "outputs": [],
   "source": [
    "pathBuddhism = \"/Users/dusti/Documents/Scripts/CS724_Project/input/buddhism/\"\n",
    "pathBibleKJV = \"/Users/dusti/Documents/Scripts/CS724_Project/input/christianity/bible_kjv.txt\"\n",
    "pathHinduism = \"/Users/dusti/Documents/Scripts/CS724_Project/input/hinduism/\"\n",
    "pathKoran = \"/Users/dusti/Documents/Scripts/CS724_Project/input/islam/koran.txt\"\n",
    "pathJudaism = \"/Users/dusti/Documents/Scripts/CS724_Project/input/judaism/tanakh.txt\""
   ]
  },
  {
   "cell_type": "code",
   "execution_count": 6,
   "id": "da49f74c",
   "metadata": {},
   "outputs": [],
   "source": [
    "stop_words = sc.textFile(\"/Users/dusti/Documents/Scripts/CS724_Project/input/stop_words.txt\").collect()\n",
    "positive_words = sc.textFile(\"/Users/dusti/Documents/Scripts/CS724_Project/input/positive_words.txt\").collect()\n",
    "negative_words = sc.textFile(\"/Users/dusti/Documents/Scripts/CS724_Project/input/negative_words.txt\").collect()"
   ]
  },
  {
   "attachments": {},
   "cell_type": "markdown",
   "id": "882282d0",
   "metadata": {},
   "source": [
    "# Word Counts"
   ]
  },
  {
   "cell_type": "code",
   "execution_count": 7,
   "id": "c595b5b6",
   "metadata": {},
   "outputs": [],
   "source": [
    "def CountWords(path: str, type: str):\n",
    "\n",
    "    lines = sc.textFile(path)\n",
    "\n",
    "    words = lines.flatMap(lambda line: line.split()).map(lambda word: word.lower())\n",
    "    words = words.map(lambda word: re.sub(r'[^\\w\\s]', '', word))\n",
    "\n",
    "    if type == 'stop':\n",
    "        words = words.filter(lambda word: word not in stop_words)\n",
    "\n",
    "    if type == 'positive':\n",
    "        words = words.filter(lambda word: word in positive_words)\n",
    "\n",
    "    if type == 'negative':\n",
    "        words = words.filter(lambda word: word in negative_words)\n",
    "\n",
    "    counts = words.map(lambda word: (word, 1)).reduceByKey(add).sortBy(lambda x: x[1], ascending=False)\n",
    "\n",
    "    return counts"
   ]
  },
  {
   "cell_type": "code",
   "execution_count": 8,
   "id": "efb8c3b8",
   "metadata": {},
   "outputs": [
    {
     "name": "stdout",
     "output_type": "stream",
     "text": [
      "+---------+-----+\n",
      "|     word|score|\n",
      "+---------+-----+\n",
      "|  abandon|   -2|\n",
      "|abandoned|   -2|\n",
      "| abandons|   -2|\n",
      "| abducted|   -2|\n",
      "|abduction|   -2|\n",
      "+---------+-----+\n",
      "only showing top 5 rows\n",
      "\n"
     ]
    }
   ],
   "source": [
    "afinnDF = sc.textFile(\"/Users/dusti/Documents/Scripts/CS724_Project/input/afinn.txt\").map(lambda line: line.split(\"\\t\")).toDF(['word','score'])\n",
    "afinnDF = afinnDF.withColumn('score', F.col('score').cast('integer'))\n",
    "afinnDF.show(5)"
   ]
  },
  {
   "cell_type": "code",
   "execution_count": 9,
   "id": "07a8f859",
   "metadata": {},
   "outputs": [],
   "source": [
    "countsBuddhism = CountWords(pathBuddhism, 'stop').toDF(['word','count'])"
   ]
  },
  {
   "cell_type": "code",
   "execution_count": 10,
   "id": "2f48ade5",
   "metadata": {},
   "outputs": [
    {
     "name": "stdout",
     "output_type": "stream",
     "text": [
      "+-------+-----+-----+--------+\n",
      "|   word|score|count|    type|\n",
      "+-------+-----+-----+--------+\n",
      "| matter|    1| 4321|positive|\n",
      "|feeling|    1| 3941|positive|\n",
      "|  death|   -2| 3557|negative|\n",
      "|  wrong|   -2| 3436|negative|\n",
      "| hatred|   -3| 2985|negative|\n",
      "+-------+-----+-----+--------+\n",
      "only showing top 5 rows\n",
      "\n"
     ]
    }
   ],
   "source": [
    "buddhismDF = afinnDF.join(countsBuddhism, afinnDF.word == countsBuddhism.word).select(afinnDF.word, afinnDF.score, \"count\")\n",
    "\n",
    "buddhismDF.withColumn(\"type\", \\\n",
    "           F.when((buddhismDF.score > 0), \"positive\") \\\n",
    "           .when((buddhismDF.score < 0), \"negative\") \\\n",
    "           .otherwise(\"neutral\")\n",
    ").sort(F.desc(\"count\")).show(5)"
   ]
  },
  {
   "cell_type": "code",
   "execution_count": 11,
   "id": "6ec933ba",
   "metadata": {},
   "outputs": [],
   "source": [
    "countsBibleKJV = CountWords(pathBibleKJV, 'stop').toDF(['word','count'])"
   ]
  },
  {
   "cell_type": "code",
   "execution_count": 12,
   "id": "670ddca3",
   "metadata": {},
   "outputs": [
    {
     "name": "stdout",
     "output_type": "stream",
     "text": [
      "+------+-----+-----+--------+\n",
      "|  word|score|count|    type|\n",
      "+------+-----+-----+--------+\n",
      "|   god|    1| 4442|positive|\n",
      "| jesus|    1|  983|positive|\n",
      "|  evil|   -3|  613|negative|\n",
      "|heaven|    2|  582|positive|\n",
      "|spirit|    1|  505|positive|\n",
      "+------+-----+-----+--------+\n",
      "only showing top 5 rows\n",
      "\n"
     ]
    }
   ],
   "source": [
    "bibleKJVDF = afinnDF.join(countsBibleKJV, afinnDF.word == countsBibleKJV.word).select(afinnDF.word, afinnDF.score, \"count\")\n",
    "\n",
    "bibleKJVDF.withColumn(\"type\", \\\n",
    "           F.when((bibleKJVDF.score > 0), \"positive\") \\\n",
    "           .when((bibleKJVDF.score < 0), \"negative\") \\\n",
    "           .otherwise(\"neutral\")\n",
    ").sort(F.desc(\"count\")).show(5)"
   ]
  },
  {
   "cell_type": "code",
   "execution_count": 13,
   "id": "7772acc9",
   "metadata": {},
   "outputs": [],
   "source": [
    "countsKoran = CountWords(pathKoran, 'stop').toDF(['word','count'])"
   ]
  },
  {
   "cell_type": "code",
   "execution_count": 14,
   "id": "7a541ccd",
   "metadata": {},
   "outputs": [
    {
     "name": "stdout",
     "output_type": "stream",
     "text": [
      "+------+-----+-----+--------+\n",
      "|  word|score|count|    type|\n",
      "+------+-----+-----+--------+\n",
      "|   god|    1| 3180|positive|\n",
      "|  fear|   -2|  310|negative|\n",
      "| mercy|    2|  194|positive|\n",
      "|  evil|   -3|  184|negative|\n",
      "|heaven|    2|  134|positive|\n",
      "+------+-----+-----+--------+\n",
      "only showing top 5 rows\n",
      "\n"
     ]
    }
   ],
   "source": [
    "koranDF = afinnDF.join(countsKoran, afinnDF.word == countsKoran.word).select(afinnDF.word, afinnDF.score, \"count\")\n",
    "\n",
    "koranDF.withColumn(\"type\", \\\n",
    "           F.when((koranDF.score > 0), \"positive\") \\\n",
    "           .when((koranDF.score < 0), \"negative\") \\\n",
    "           .otherwise(\"neutral\")\n",
    ").sort(F.desc(\"count\")).show(5)"
   ]
  },
  {
   "cell_type": "code",
   "execution_count": 15,
   "id": "6383bb61",
   "metadata": {},
   "outputs": [],
   "source": [
    "countsJudaism = CountWords(pathJudaism, 'stop').toDF(['word','count'])"
   ]
  },
  {
   "cell_type": "code",
   "execution_count": 16,
   "id": "424e3067",
   "metadata": {},
   "outputs": [
    {
     "name": "stdout",
     "output_type": "stream",
     "text": [
      "+------+-----+-----+--------+\n",
      "|  word|score|count|    type|\n",
      "+------+-----+-----+--------+\n",
      "|   god|    1| 3056|positive|\n",
      "|  evil|   -3|  520|negative|\n",
      "|  gold|    2|  384|positive|\n",
      "|heaven|    2|  330|positive|\n",
      "|wicked|   -2|  297|negative|\n",
      "+------+-----+-----+--------+\n",
      "only showing top 5 rows\n",
      "\n"
     ]
    }
   ],
   "source": [
    "judaismDF = afinnDF.join(countsJudaism, afinnDF.word == countsJudaism.word).select(afinnDF.word, afinnDF.score, \"count\")\n",
    "\n",
    "judaismDF.withColumn(\"type\", \\\n",
    "           F.when((judaismDF.score > 0), \"positive\") \\\n",
    "           .when((judaismDF.score < 0), \"negative\") \\\n",
    "           .otherwise(\"neutral\")\n",
    ").sort(F.desc(\"count\")).show(5)"
   ]
  },
  {
   "cell_type": "code",
   "execution_count": 17,
   "id": "66ac272e",
   "metadata": {},
   "outputs": [],
   "source": [
    "countsHinduism = CountWords(pathHinduism, 'stop').toDF(['word','count'])"
   ]
  },
  {
   "cell_type": "code",
   "execution_count": 18,
   "id": "60cb7b49",
   "metadata": {},
   "outputs": [
    {
     "name": "stdout",
     "output_type": "stream",
     "text": [
      "+--------+-----+-----+--------+\n",
      "|    word|score|count|    type|\n",
      "+--------+-----+-----+--------+\n",
      "|  heaven|    2| 2055|positive|\n",
      "|strength|    2| 1855|positive|\n",
      "|     god|    1| 1598|positive|\n",
      "|  wealth|    3| 1557|positive|\n",
      "|  strong|    2| 1255|positive|\n",
      "+--------+-----+-----+--------+\n",
      "only showing top 5 rows\n",
      "\n"
     ]
    }
   ],
   "source": [
    "hinduismDF = afinnDF.join(countsHinduism, afinnDF.word == countsHinduism.word).select(afinnDF.word, afinnDF.score, \"count\")\n",
    "\n",
    "hinduismDF.withColumn(\"type\", \\\n",
    "           F.when((hinduismDF.score > 0), \"positive\") \\\n",
    "           .when((hinduismDF.score < 0), \"negative\") \\\n",
    "           .otherwise(\"neutral\")\n",
    ").sort(F.desc(\"count\")).show(5)"
   ]
  },
  {
   "attachments": {},
   "cell_type": "markdown",
   "id": "03f59993",
   "metadata": {},
   "source": [
    "# Word Clouds"
   ]
  },
  {
   "cell_type": "code",
   "execution_count": null,
   "id": "4ac92a55",
   "metadata": {},
   "outputs": [],
   "source": [
    "def createWordCloud(text):\n",
    "    wordcloud = WordCloud(width=800, height=400).generate(text)\n",
    "    plt.figure()\n",
    "    plt.imshow(wordcloud, interpolation=\"bilinear\")\n",
    "    plt.axis(\"off\")\n",
    "    plt.show()"
   ]
  },
  {
   "cell_type": "code",
   "execution_count": null,
   "id": "f69a3f67",
   "metadata": {},
   "outputs": [],
   "source": [
    "buddhismPDF = buddhismDF.toPandas()\n",
    "textBuddhism = \" \".join(word for word in buddhismPDF.word.astype(str))\n",
    "createWordCloud(textBuddhism)"
   ]
  },
  {
   "cell_type": "code",
   "execution_count": null,
   "id": "abb348d4",
   "metadata": {},
   "outputs": [],
   "source": [
    "bibleKJVPDF = bibleKJVDF.toPandas()\n",
    "textBibleKJV = \" \".join(word for word in bibleKJVPDF.word.astype(str))\n",
    "createWordCloud(textBibleKJV)"
   ]
  },
  {
   "cell_type": "code",
   "execution_count": null,
   "id": "6ff091e2",
   "metadata": {},
   "outputs": [],
   "source": [
    "koranPDF = koranDF.toPandas()\n",
    "textKoran = \" \".join(word for word in koranPDF.word.astype(str))\n",
    "createWordCloud(textKoran)"
   ]
  },
  {
   "cell_type": "code",
   "execution_count": null,
   "id": "9a64a40b",
   "metadata": {},
   "outputs": [],
   "source": [
    "judaismPDF = judaismDF.toPandas()\n",
    "textJudaism = \" \".join(word for word in judaismPDF.word.astype(str))\n",
    "createWordCloud(textJudaism)"
   ]
  },
  {
   "cell_type": "code",
   "execution_count": null,
   "id": "fc5068e9",
   "metadata": {},
   "outputs": [],
   "source": [
    "hinduismPDF = hinduismDF.toPandas()\n",
    "textHinduism = \" \".join(word for word in hinduismPDF.word.astype(str))\n",
    "createWordCloud(textHinduism)"
   ]
  },
  {
   "cell_type": "code",
   "execution_count": null,
   "id": "23c7eefd",
   "metadata": {},
   "outputs": [],
   "source": [
    "print(type(buddhismDF))\n",
    "print(type(bibleKJVDF))\n",
    "print(type(hinduismDF))\n",
    "print(type(judaismDF))\n",
    "print(type(koranDF))"
   ]
  },
  {
   "attachments": {},
   "cell_type": "markdown",
   "id": "62380b81",
   "metadata": {},
   "source": [
    "# Data Preprocessing"
   ]
  },
  {
   "cell_type": "code",
   "execution_count": 19,
   "id": "b4cb308a",
   "metadata": {},
   "outputs": [],
   "source": [
    "tweetsSchema = T.StructType([\n",
    "    T.StructField(\"user_name\", T.StringType()),\n",
    "    T.StructField(\"user_location\", T.StringType()),\n",
    "    T.StructField(\"user_description\", T.StringType()),\n",
    "    T.StructField(\"user_created\", T.StringType()),\n",
    "    T.StructField(\"user_followers\", T.IntegerType()),\n",
    "    T.StructField(\"user_friends\", T.IntegerType()),\n",
    "    T.StructField(\"user_favourites\", T.IntegerType()),\n",
    "    T.StructField(\"user_verified\", T.StringType()),\n",
    "    T.StructField(\"date\", T.DateType()),\n",
    "    T.StructField(\"text\", T.StringType()),\n",
    "    T.StructField(\"hashtags\", T.StringType()),\n",
    "    T.StructField(\"source\", T.StringType()),\n",
    "    T.StructField(\"is_retweet\", T.StringType())\n",
    "])\n",
    "\n",
    "tweetsRawDF = sqlContext.read.format(\"csv\").option(\"header\", \"true\").schema(tweetsSchema).load(\"/Users/dusti/Documents/Scripts/CS724_Project/input/tweets/covid19_tweets.csv\")\n",
    "#tweetsRawDF.show(5)"
   ]
  },
  {
   "cell_type": "code",
   "execution_count": 20,
   "id": "7e5b7da7",
   "metadata": {},
   "outputs": [],
   "source": [
    "tweetsDF = tweetsRawDF.select(\"text\").dropna()\n",
    "#tweetsDF.show(5)"
   ]
  },
  {
   "cell_type": "code",
   "execution_count": 21,
   "id": "2b3b1c66",
   "metadata": {},
   "outputs": [],
   "source": [
    "cleanTweetsDF = tweetsDF.withColumn('clean_text', F.regexp_replace('text', '[^\\w\\s]+', ''))\n",
    "cleanTweetsDF = cleanTweetsDF.withColumn('clean_text', F.lower(cleanTweetsDF['clean_text']))\n",
    "cleanTweetsDF = cleanTweetsDF.withColumn('words', F.split(cleanTweetsDF['clean_text'], ' '))\n",
    "cleanTweetsDF = cleanTweetsDF.withColumn(\"index\", F.monotonically_increasing_id())\n",
    "#cleanTweetsDF.show(5)"
   ]
  },
  {
   "cell_type": "code",
   "execution_count": 22,
   "id": "aad1e1a3",
   "metadata": {},
   "outputs": [],
   "source": [
    "df_exploded = cleanTweetsDF.select(\"index\", F.explode(F.col(\"words\")).alias(\"word\"))\n",
    "df_scored = df_exploded.join(afinnDF, \"word\")\n",
    "df_grouped = df_scored.groupBy(df_scored.index).agg(F.collect_list(\"score\").alias(\"afinn_scores\"))"
   ]
  },
  {
   "cell_type": "code",
   "execution_count": 23,
   "id": "049b91f5",
   "metadata": {},
   "outputs": [],
   "source": [
    "cleanTweetsDF = cleanTweetsDF.join(df_grouped, 'index', 'outer')"
   ]
  },
  {
   "cell_type": "code",
   "execution_count": 24,
   "id": "a16ac6fb",
   "metadata": {},
   "outputs": [],
   "source": [
    "cleanTweetsDF = cleanTweetsDF.withColumn('token_count', F.size('words').cast(\"string\"))"
   ]
  },
  {
   "cell_type": "code",
   "execution_count": 25,
   "id": "eefd17fb",
   "metadata": {},
   "outputs": [],
   "source": [
    "def sum_array(arr):\n",
    "    if arr is None:\n",
    "        return 0  # Return 0 for NoneType values\n",
    "    else:\n",
    "        return sum(arr)\n",
    "\n",
    "sum_array_udf = udf(sum_array, T.StringType())\n",
    "\n",
    "cleanTweetsDF = cleanTweetsDF.withColumn(\"sentiment\", sum_array_udf(\"afinn_scores\").cast(\"int\"))"
   ]
  },
  {
   "cell_type": "code",
   "execution_count": 26,
   "id": "9f283f5b",
   "metadata": {},
   "outputs": [],
   "source": [
    "cleanTweetsDF = cleanTweetsDF.withColumn(\"category\", F.when(cleanTweetsDF.sentiment < 0, -1).when(cleanTweetsDF.sentiment > 0, 1).otherwise(0))"
   ]
  },
  {
   "cell_type": "code",
   "execution_count": null,
   "id": "6e0d5fa6",
   "metadata": {},
   "outputs": [],
   "source": [
    "#cleanTweetsDF.sort(F.asc('index')).show(5)"
   ]
  },
  {
   "attachments": {},
   "cell_type": "markdown",
   "id": "22402e6a",
   "metadata": {},
   "source": [
    "# Model One: Predicting Overall Sentiment (Positive, Negative, Neutral)"
   ]
  },
  {
   "cell_type": "code",
   "execution_count": 27,
   "id": "fdf74e10",
   "metadata": {},
   "outputs": [],
   "source": [
    "from pyspark.ml import Pipeline\n",
    "from pyspark.ml.feature import OneHotEncoder, StringIndexer, VectorAssembler\n",
    "\n",
    "countVectors = CountVectorizer(inputCol=\"words\", outputCol=\"features\", vocabSize=30000, minDF=5)\n",
    "label_stringIdx = StringIndexer(inputCol = \"category\", outputCol = \"label\")\n",
    "\n",
    "pipeline = Pipeline(stages=[countVectors, label_stringIdx])\n",
    "\n",
    "pipelineFit = pipeline.fit(cleanTweetsDF)\n",
    "dataset = pipelineFit.transform(cleanTweetsDF)\n",
    "#dataset.show(5)"
   ]
  },
  {
   "cell_type": "code",
   "execution_count": 28,
   "id": "cb0521de",
   "metadata": {},
   "outputs": [],
   "source": [
    "# set seed for reproducibility\n",
    "(trainingData, testData) = dataset.randomSplit([0.7, 0.3], seed = 100)\n",
    "#print(\"Training Dataset Count: \" + str(trainingData.count()))\n",
    "#print(\"Test Dataset Count: \" + str(testData.count()))"
   ]
  },
  {
   "cell_type": "code",
   "execution_count": null,
   "id": "ceefb4e2",
   "metadata": {},
   "outputs": [],
   "source": [
    "trainingData"
   ]
  },
  {
   "cell_type": "code",
   "execution_count": null,
   "id": "730e21d2",
   "metadata": {},
   "outputs": [],
   "source": [
    "testData"
   ]
  },
  {
   "cell_type": "code",
   "execution_count": null,
   "id": "7ce55917",
   "metadata": {},
   "outputs": [],
   "source": [
    "trainingData.persist()\n",
    "testData.persist()"
   ]
  },
  {
   "attachments": {},
   "cell_type": "markdown",
   "id": "0d1c0d4c",
   "metadata": {},
   "source": [
    "## Logistic Regression using Count Vector\n",
    "\n",
    "A \"bag of words\" is being generated to represent the given tweet text data, such that the ordinal nature of the text is ignored and only the count of occurences is used to create a vector of word frequencies by row in the Spark Dataframe where each array index corresponds of the generated array corresponds to a word in this \"bag of words\" and the corresponding value at this index is the frequency value."
   ]
  },
  {
   "cell_type": "code",
   "execution_count": 29,
   "id": "dc2962bf",
   "metadata": {},
   "outputs": [
    {
     "data": {
      "text/plain": [
       "DataFrame[clean_text: string, category: int, probability: vector, label: double, prediction: double]"
      ]
     },
     "execution_count": 29,
     "metadata": {},
     "output_type": "execute_result"
    }
   ],
   "source": [
    "lr = LogisticRegression(maxIter=20, regParam=0.3, elasticNetParam=0)\n",
    "lrModel = lr.fit(trainingData)\n",
    "\n",
    "predictions = lrModel.transform(testData)\n",
    "\n",
    "predictions.filter(predictions['prediction'] == 0).select(\"clean_text\",\"category\",\"probability\",\"label\",\"prediction\")\\\n",
    ".orderBy(\"probability\", ascending=False)\n",
    "\n",
    "#predictions.show(10)"
   ]
  },
  {
   "cell_type": "code",
   "execution_count": 30,
   "id": "efc8ba43",
   "metadata": {},
   "outputs": [
    {
     "name": "stdout",
     "output_type": "stream",
     "text": [
      "0.8162074838189236\n"
     ]
    }
   ],
   "source": [
    "from pyspark.ml.evaluation import MulticlassClassificationEvaluator\n",
    "evaluator = MulticlassClassificationEvaluator(predictionCol=\"prediction\")\n",
    "lr_CV_Accuracy = evaluator.evaluate(predictions)\n",
    "print(lr_CV_Accuracy)"
   ]
  },
  {
   "cell_type": "code",
   "execution_count": 55,
   "id": "ca58d08c",
   "metadata": {},
   "outputs": [
    {
     "name": "stdout",
     "output_type": "stream",
     "text": [
      "\n",
      "False positive rate by label:\n",
      "label 0: 0.15952127487983483\n",
      "label 1: 0.022113855365328842\n",
      "label 2: 0.022674228632777856\n",
      "\n",
      "True positive rate by label:\n",
      "label 0: 0.9499111770415545\n",
      "label 1: 0.818231528836566\n",
      "label 2: 0.8272994920573296\n",
      "\n",
      "Precision by label:\n",
      "label 0: 0.839858803717737\n",
      "label 1: 0.9308061034066376\n",
      "label 2: 0.9293814058297594\n",
      "\n",
      "Recall by label:\n",
      "label 0: 0.9499111770415545\n",
      "label 1: 0.818231528836566\n",
      "label 2: 0.8272994920573296\n",
      "\n",
      "F-measure by label:\n",
      "label 0: 0.8915014480796831\n",
      "label 1: 0.8708959567256668\n",
      "label 2: 0.8753744244561217\n",
      "\n",
      "Accuracy: 0.882299465699265\n",
      "\n",
      "FPR: 0.08660882457720655\n",
      "\n",
      "TPR: 0.882299465699265\n",
      "\n",
      "F-measure: 0.8817324555848873\n",
      "\n",
      "Precision: 0.8878387928148179\n",
      "\n",
      "Recall: 0.882299465699265\n"
     ]
    }
   ],
   "source": [
    "trainingSummary = lrModel.summary\n",
    "\n",
    "# for multiclass, we can inspect metrics on a per-label basis\n",
    "print(\"\\nFalse positive rate by label:\")\n",
    "for i, rate in enumerate(trainingSummary.falsePositiveRateByLabel):\n",
    "    print(\"label %d: %s\" % (i, rate))\n",
    "\n",
    "print(\"\\nTrue positive rate by label:\")\n",
    "for i, rate in enumerate(trainingSummary.truePositiveRateByLabel):\n",
    "    print(\"label %d: %s\" % (i, rate))\n",
    "\n",
    "print(\"\\nPrecision by label:\")\n",
    "for i, prec in enumerate(trainingSummary.precisionByLabel):\n",
    "    print(\"label %d: %s\" % (i, prec))\n",
    "\n",
    "print(\"\\nRecall by label:\")\n",
    "for i, rec in enumerate(trainingSummary.recallByLabel):\n",
    "    print(\"label %d: %s\" % (i, rec))\n",
    "\n",
    "print(\"\\nF-measure by label:\")\n",
    "for i, f in enumerate(trainingSummary.fMeasureByLabel()):\n",
    "    print(\"label %d: %s\" % (i, f))\n",
    "\n",
    "accuracy = trainingSummary.accuracy\n",
    "falsePositiveRate = trainingSummary.weightedFalsePositiveRate\n",
    "truePositiveRate = trainingSummary.weightedTruePositiveRate\n",
    "fMeasure = trainingSummary.weightedFMeasure()\n",
    "precision = trainingSummary.weightedPrecision\n",
    "recall = trainingSummary.weightedRecall\n",
    "print(\"\\nAccuracy: %s\\n\\nFPR: %s\\n\\nTPR: %s\\n\\nF-measure: %s\\n\\nPrecision: %s\\n\\nRecall: %s\"\n",
    "      % (accuracy, falsePositiveRate, truePositiveRate, fMeasure, precision, recall))"
   ]
  },
  {
   "attachments": {},
   "cell_type": "markdown",
   "id": "90cabd65",
   "metadata": {},
   "source": [
    "## Logistic Regression using TF-IDF\n",
    "\n",
    "Term frequency-inverse document frequency creates a weighted \"bag of words\" of the input tweet text, but is more robust than the previous count vector feature method in that it takes into account the frequency of a word in a document of text as well as the inverse frequency of a word in all documents in the corpus."
   ]
  },
  {
   "cell_type": "code",
   "execution_count": 32,
   "id": "b5e23a2e",
   "metadata": {},
   "outputs": [
    {
     "data": {
      "text/plain": [
       "DataFrame[clean_text: string, category: int, probability: vector, label: double, prediction: double]"
      ]
     },
     "execution_count": 32,
     "metadata": {},
     "output_type": "execute_result"
    }
   ],
   "source": [
    "from pyspark.ml.feature import HashingTF, IDF\n",
    "\n",
    "hashingTF = HashingTF(inputCol=\"words\", outputCol=\"rawFeatures\", numFeatures=30000)\n",
    "idf = IDF(inputCol=\"rawFeatures\", outputCol=\"features\", minDocFreq=5) #minDocFreq: remove sparse terms\n",
    "\n",
    "pipeline = Pipeline(stages=[hashingTF, idf, label_stringIdx])\n",
    "\n",
    "pipelineFit = pipeline.fit(cleanTweetsDF)\n",
    "dataset = pipelineFit.transform(cleanTweetsDF)\n",
    "\n",
    "(trainingData, testData) = dataset.randomSplit([0.7, 0.3], seed = 100)\n",
    "lr = LogisticRegression(maxIter=20, regParam=0.3, elasticNetParam=0)\n",
    "lrModel = lr.fit(trainingData)\n",
    "\n",
    "predictions = lrModel.transform(testData)\n",
    "\n",
    "predictions.filter(predictions['prediction'] == 0) \\\n",
    "    .select(\"clean_text\",\"category\",\"probability\",\"label\",\"prediction\") \\\n",
    "    .orderBy(\"probability\", ascending=False)"
   ]
  },
  {
   "cell_type": "code",
   "execution_count": 33,
   "id": "60120681",
   "metadata": {},
   "outputs": [
    {
     "name": "stdout",
     "output_type": "stream",
     "text": [
      "0.7577791633330189\n"
     ]
    }
   ],
   "source": [
    "evaluator = MulticlassClassificationEvaluator(predictionCol=\"prediction\")\n",
    "lr_TFIDF_Accuracy = evaluator.evaluate(predictions)\n",
    "print(lr_TFIDF_Accuracy)"
   ]
  },
  {
   "cell_type": "code",
   "execution_count": 34,
   "id": "1280f5ba",
   "metadata": {},
   "outputs": [
    {
     "name": "stdout",
     "output_type": "stream",
     "text": [
      "\n",
      "False positive rate by label:\n",
      "label 0: 0.15952127487983483\n",
      "label 1: 0.022113855365328842\n",
      "label 2: 0.022674228632777856\n",
      "\n",
      "True positive rate by label:\n",
      "label 0: 0.9499111770415545\n",
      "label 1: 0.818231528836566\n",
      "label 2: 0.8272994920573296\n",
      "\n",
      "Precision by label:\n",
      "label 0: 0.839858803717737\n",
      "label 1: 0.9308061034066376\n",
      "label 2: 0.9293814058297594\n",
      "\n",
      "Recall by label:\n",
      "label 0: 0.9499111770415545\n",
      "label 1: 0.818231528836566\n",
      "label 2: 0.8272994920573296\n",
      "\n",
      "F-measure by label:\n",
      "label 0: 0.8915014480796831\n",
      "label 1: 0.8708959567256668\n",
      "label 2: 0.8753744244561217\n",
      "\n",
      "Accuracy: 0.882299465699265\n",
      "\n",
      "FPR: 0.08660882457720655\n",
      "\n",
      "TPR: 0.882299465699265\n",
      "\n",
      "F-measure: 0.8817324555848873\n",
      "\n",
      "Precision: 0.8878387928148179\n",
      "\n",
      "Recall: 0.882299465699265\n"
     ]
    }
   ],
   "source": [
    "trainingSummary = lrModel.summary\n",
    "\n",
    "# for multiclass, we can inspect metrics on a per-label basis\n",
    "print(\"\\nFalse positive rate by label:\")\n",
    "for i, rate in enumerate(trainingSummary.falsePositiveRateByLabel):\n",
    "    print(\"label %d: %s\" % (i, rate))\n",
    "\n",
    "print(\"\\nTrue positive rate by label:\")\n",
    "for i, rate in enumerate(trainingSummary.truePositiveRateByLabel):\n",
    "    print(\"label %d: %s\" % (i, rate))\n",
    "\n",
    "print(\"\\nPrecision by label:\")\n",
    "for i, prec in enumerate(trainingSummary.precisionByLabel):\n",
    "    print(\"label %d: %s\" % (i, prec))\n",
    "\n",
    "print(\"\\nRecall by label:\")\n",
    "for i, rec in enumerate(trainingSummary.recallByLabel):\n",
    "    print(\"label %d: %s\" % (i, rec))\n",
    "\n",
    "print(\"\\nF-measure by label:\")\n",
    "for i, f in enumerate(trainingSummary.fMeasureByLabel()):\n",
    "    print(\"label %d: %s\" % (i, f))\n",
    "\n",
    "accuracy = trainingSummary.accuracy\n",
    "falsePositiveRate = trainingSummary.weightedFalsePositiveRate\n",
    "truePositiveRate = trainingSummary.weightedTruePositiveRate\n",
    "fMeasure = trainingSummary.weightedFMeasure()\n",
    "precision = trainingSummary.weightedPrecision\n",
    "recall = trainingSummary.weightedRecall\n",
    "print(\"\\nAccuracy: %s\\n\\nFPR: %s\\n\\nTPR: %s\\n\\nF-measure: %s\\n\\nPrecision: %s\\n\\nRecall: %s\"\n",
    "      % (accuracy, falsePositiveRate, truePositiveRate, fMeasure, precision, recall))"
   ]
  },
  {
   "attachments": {},
   "cell_type": "markdown",
   "id": "8df8fbc6",
   "metadata": {},
   "source": [
    "## Naive Bayes\n",
    "\n",
    "Probabilistic classification algorithm that is based on Bayes Theorem, by first estimating the probabilities of each class based on the input features. These probabilities are estimated by the probability of hypothesis (in this case, the category/label) based on the prior knowledge (the prior probability of the category/label) and the observed evidence (the input features). The assumption in Naive Bayes is that all features are independent of each other given the class. This means that the probability of a particular feature occurring does not depend on the occurrence of any other feature in the input data. This assumption simplifies the calculation of the probability of each class given the input features.\n",
    "\n",
    "Naive Bayes calculates the probability of each class given the input features using Bayes' theorem. The class with the highest probability is then assigned to the input data point."
   ]
  },
  {
   "cell_type": "code",
   "execution_count": 35,
   "id": "a13b8bf2",
   "metadata": {},
   "outputs": [
    {
     "data": {
      "text/plain": [
       "DataFrame[clean_text: string, category: int, probability: vector, label: double, prediction: double]"
      ]
     },
     "execution_count": 35,
     "metadata": {},
     "output_type": "execute_result"
    }
   ],
   "source": [
    "from pyspark.ml.classification import NaiveBayes\n",
    "nb = NaiveBayes(smoothing=1)\n",
    "nbModel = nb.fit(trainingData)\n",
    "predictions = nbModel.transform(testData)\n",
    "predictions.filter(predictions['prediction'] == 0) \\\n",
    "    .select(\"clean_text\",\"category\",\"probability\",\"label\",\"prediction\") \\\n",
    "    .orderBy(\"probability\", ascending=False)"
   ]
  },
  {
   "cell_type": "code",
   "execution_count": 36,
   "id": "e8e358a5",
   "metadata": {},
   "outputs": [
    {
     "name": "stdout",
     "output_type": "stream",
     "text": [
      "0.6790508985866582\n"
     ]
    }
   ],
   "source": [
    "evaluator = MulticlassClassificationEvaluator(predictionCol=\"prediction\")\n",
    "nbAccuracy = evaluator.evaluate(predictions)\n",
    "print(nbAccuracy)"
   ]
  },
  {
   "attachments": {},
   "cell_type": "markdown",
   "id": "321a1335",
   "metadata": {},
   "source": [
    "## Decision Tree Classification\n",
    "\n",
    "\n",
    "Predicts the class label of an input data point by recursively partitioning the feature space into subsets that are associated with different class labels.\n",
    "\n",
    "A decision tree consists of internal nodes, branches, and leaf nodes. The internal nodes represent a test on a feature, and the branches represent the possible outcomes of the test. The leaf nodes represent the final decision, which is the class label assigned to the input data point.\n",
    "\n",
    "The algorithm begins by selecting the most important feature that can best partition the input data into subsets with different class labels. The feature is selected using a measure of impurity, such as the Gini impurity or the entropy. The measure of impurity evaluates how well a feature splits the input data into subsets that have different class labels.\n",
    "\n",
    "The input data is partitioned into subsets based on the values of the selected feature. The partitioning process is repeated recursively for each subset until a stopping criterion is met. The stopping criterion could be a predefined depth of the tree, a minimum number of data points in a leaf node, or a minimum reduction in impurity."
   ]
  },
  {
   "cell_type": "code",
   "execution_count": 37,
   "id": "04398c2c",
   "metadata": {},
   "outputs": [
    {
     "data": {
      "text/plain": [
       "DataFrame[clean_text: string, category: int, probability: vector, label: double, prediction: double]"
      ]
     },
     "execution_count": 37,
     "metadata": {},
     "output_type": "execute_result"
    }
   ],
   "source": [
    "from pyspark.ml.classification import DecisionTreeClassifier\n",
    "dt = DecisionTreeClassifier(featuresCol = 'features', labelCol = 'label', maxDepth = 3)\n",
    "dtModel = dt.fit(trainingData)\n",
    "predictions = dtModel.transform(testData)\n",
    "predictions.filter(predictions['prediction'] == 0) \\\n",
    "    .select(\"clean_text\",\"category\",\"probability\",\"label\",\"prediction\") \\\n",
    "    .orderBy(\"probability\", ascending=False)"
   ]
  },
  {
   "cell_type": "code",
   "execution_count": 38,
   "id": "ad735e5e",
   "metadata": {},
   "outputs": [
    {
     "name": "stdout",
     "output_type": "stream",
     "text": [
      "0.38105544664522306\n"
     ]
    }
   ],
   "source": [
    "evaluator = MulticlassClassificationEvaluator(predictionCol=\"prediction\")\n",
    "dtAccuracy = evaluator.evaluate(predictions)\n",
    "print(dtAccuracy) "
   ]
  },
  {
   "attachments": {},
   "cell_type": "markdown",
   "id": "2273f302",
   "metadata": {},
   "source": [
    "## Random Forest Model\n",
    "\n",
    "\n",
    "A forest of decision trees, where each tree is trained on a random subset of the input features and a random subset of the training data. The random selection of features and training data helps to reduce overfitting and improve the generalization performance of the model.\n",
    "\n",
    "Each decision tree is built using a subset of the input features and a subset of the training data. The splitting criterion for each node is based on the Gini impurity or the information gain, which measures the quality of the split in terms of how well it separates the input data into different classes.\n",
    "\n",
    "The random forest takes the average prediction of all decision trees in the forest. Each tree makes a prediction based on the features of the input data point and the decision rules learned during the training phase. The average prediction of all trees gives a final prediction that is less sensitive to the specific training data and more robust to noise and outliers."
   ]
  },
  {
   "cell_type": "code",
   "execution_count": 39,
   "id": "fe4e76d3",
   "metadata": {},
   "outputs": [
    {
     "data": {
      "text/plain": [
       "DataFrame[clean_text: string, category: int, probability: vector, label: double, prediction: double]"
      ]
     },
     "execution_count": 39,
     "metadata": {},
     "output_type": "execute_result"
    }
   ],
   "source": [
    "from pyspark.ml.classification import RandomForestClassifier\n",
    "rf = RandomForestClassifier(labelCol=\"label\", \\\n",
    "                            featuresCol=\"features\", \\\n",
    "                            numTrees = 100, \\\n",
    "                            maxDepth = 4, \\\n",
    "                            maxBins = 32)\n",
    "# Train model with Training Data\n",
    "rfModel = rf.fit(trainingData)\n",
    "rfPredictions = rfModel.transform(testData)\n",
    "rfPredictions.filter(rfPredictions['prediction'] == 0) \\\n",
    "    .select(\"clean_text\",\"category\",\"probability\",\"label\",\"prediction\") \\\n",
    "    .orderBy(\"probability\", ascending=False)"
   ]
  },
  {
   "cell_type": "code",
   "execution_count": 40,
   "id": "e565e9f8",
   "metadata": {},
   "outputs": [
    {
     "name": "stdout",
     "output_type": "stream",
     "text": [
      "0.3030500533159491\n"
     ]
    }
   ],
   "source": [
    "rfEvaluator = MulticlassClassificationEvaluator(predictionCol=\"prediction\")\n",
    "rfAccuracy = rfEvaluator.evaluate(rfPredictions)\n",
    "print(rfAccuracy) "
   ]
  },
  {
   "attachments": {},
   "cell_type": "markdown",
   "id": "34b95080",
   "metadata": {},
   "source": [
    "## OnevsRest Classification Model\n",
    "\n",
    "\n",
    "A binary classifier for each class label, where the positive class is the target class and the negative class is all the other classes combined. During the prediction phase, the input data point is passed through all the binary classifiers, and the class label with the highest confidence score is selected as the predicted class label."
   ]
  },
  {
   "cell_type": "code",
   "execution_count": 41,
   "id": "46d8d1d8",
   "metadata": {},
   "outputs": [
    {
     "data": {
      "text/plain": [
       "DataFrame[clean_text: string, category: int, label: double, prediction: double]"
      ]
     },
     "execution_count": 41,
     "metadata": {},
     "output_type": "execute_result"
    }
   ],
   "source": [
    "from pyspark.ml.classification import LogisticRegression, OneVsRest\n",
    "\n",
    "ovrLR = LogisticRegression(maxIter=20, regParam=0.3, elasticNetParam=0)\n",
    "\n",
    "ovr = OneVsRest(classifier=ovrLR)\n",
    "\n",
    "ovrModel = ovr.fit(trainingData)\n",
    "\n",
    "# score the model on test data.\n",
    "ovrPredictions = ovrModel.transform(testData)\n",
    "\n",
    "ovrPredictions.filter(ovrPredictions['prediction'] == 0) \\\n",
    "    .select(\"clean_text\",\"category\",\"label\",\"prediction\")"
   ]
  },
  {
   "cell_type": "code",
   "execution_count": 42,
   "id": "1345e006",
   "metadata": {},
   "outputs": [
    {
     "name": "stdout",
     "output_type": "stream",
     "text": [
      "0.7389304474385188\n"
     ]
    }
   ],
   "source": [
    "ovrEvaluator = MulticlassClassificationEvaluator(predictionCol=\"prediction\")\n",
    "ovrAccuracy = ovrEvaluator.evaluate(ovrPredictions)\n",
    "print(ovrAccuracy)"
   ]
  },
  {
   "attachments": {},
   "cell_type": "markdown",
   "id": "80de00a1",
   "metadata": {},
   "source": [
    "## Model One Visualization"
   ]
  },
  {
   "cell_type": "code",
   "execution_count": 43,
   "id": "8d532f3d",
   "metadata": {},
   "outputs": [],
   "source": [
    "model = ['LR CV', 'LR TF-IDF', 'Naive Bayes', 'Random Forest', 'OneVsRest']\n",
    "accuracy = [lr_CV_Accuracy, lr_TFIDF_Accuracy, nbAccuracy, rfAccuracy, ovrAccuracy]"
   ]
  },
  {
   "cell_type": "code",
   "execution_count": 44,
   "id": "669190bd",
   "metadata": {},
   "outputs": [
    {
     "data": {
      "image/png": "[encoded data removed]",
      "text/plain": [
       "<Figure size 640x480 with 1 Axes>"
      ]
     },
     "metadata": {},
     "output_type": "display_data"
    }
   ],
   "source": [
    "def plot_bar_x():\n",
    "    # this is for plotting purpose\n",
    "    index = np.arange(len(model))\n",
    "    plt.bar(index, accuracy)\n",
    "    plt.xlabel('models', fontsize=10)\n",
    "    plt.ylabel('prediction accuracy', fontsize=10)\n",
    "    plt.xticks(index, model, fontsize=10, rotation=30)\n",
    "    plt.title('Accuracy of each model')\n",
    "    plt.show()\n",
    "    \n",
    "plot_bar_x()"
   ]
  },
  {
   "cell_type": "code",
   "execution_count": null,
   "id": "5ade8365",
   "metadata": {},
   "outputs": [],
   "source": [
    "spark.catalog.clearCache()"
   ]
  },
  {
   "attachments": {},
   "cell_type": "markdown",
   "id": "6030f1f5",
   "metadata": {},
   "source": [
    "# Data Preprocessing"
   ]
  },
  {
   "cell_type": "code",
   "execution_count": 60,
   "id": "a0b82d20",
   "metadata": {},
   "outputs": [],
   "source": [
    "tweetsDF2 = tweetsRawDF.select(\"text\").dropna()\n",
    "\n",
    "cleanTweetsDF2 = tweetsDF2.withColumn('clean_text', F.regexp_replace('text', '[^\\w\\s]+', ''))\n",
    "cleanTweetsDF2 = cleanTweetsDF2.withColumn('clean_text', F.lower(cleanTweetsDF2['clean_text']))\n",
    "cleanTweetsDF2 = cleanTweetsDF2.withColumn('words', F.split(cleanTweetsDF2['clean_text'], ' '))\n",
    "cleanTweetsDF2 = cleanTweetsDF2.withColumn(\"index\", F.monotonically_increasing_id())\n",
    "\n",
    "df_exploded_christinaity = cleanTweetsDF2.select(\"index\", F.explode(F.col(\"words\")).alias(\"word\"))\n",
    "df_scored_christinaity = df_exploded_christinaity.join(bibleKJVDF, \"word\")\n",
    "df_grouped_christinaity = df_scored_christinaity.groupBy(df_scored_christinaity.index).agg(F.collect_list(\"score\").alias(\"afinn_scores_christianity\"))\n",
    "\n",
    "cleanTweetsDF2 = cleanTweetsDF2.join(df_grouped_christinaity, 'index', 'outer')\n",
    "\n",
    "cleanTweetsDF2 = cleanTweetsDF2.withColumn(\"sentiment_christianity\", sum_array_udf(\"afinn_scores_christianity\").cast(\"int\"))\n",
    "#cleanTweetsDF2.sort(F.asc('index')).show(5)"
   ]
  },
  {
   "cell_type": "code",
   "execution_count": 61,
   "id": "0c9a3634",
   "metadata": {},
   "outputs": [],
   "source": [
    "df_exploded_islam = cleanTweetsDF2.select(\"index\", F.explode(F.col(\"words\")).alias(\"word\"))\n",
    "df_scored_islam = df_exploded_islam.join(koranDF, \"word\")\n",
    "df_grouped_islam = df_scored_islam.groupBy(df_scored_islam.index).agg(F.collect_list(\"score\").alias(\"afinn_scores_islam\"))\n",
    "\n",
    "cleanTweetsDF2 = cleanTweetsDF2.join(df_grouped_islam, 'index', 'outer')\n",
    "cleanTweetsDF2 = cleanTweetsDF2.withColumn(\"sentiment_islam\", sum_array_udf(\"afinn_scores_islam\").cast(\"int\"))"
   ]
  },
  {
   "cell_type": "code",
   "execution_count": 62,
   "id": "5769a497",
   "metadata": {},
   "outputs": [],
   "source": [
    "df_exploded_judaism = cleanTweetsDF2.select(\"index\", F.explode(F.col(\"words\")).alias(\"word\"))\n",
    "df_scored_judaism = df_exploded_judaism.join(judaismDF, \"word\")\n",
    "df_grouped_judaism = df_scored_judaism.groupBy(df_scored_judaism.index).agg(F.collect_list(\"score\").alias(\"afinn_scores_judaism\"))\n",
    "\n",
    "cleanTweetsDF2 = cleanTweetsDF2.join(df_grouped_judaism, 'index', 'outer')\n",
    "cleanTweetsDF2 = cleanTweetsDF2.withColumn(\"sentiment_judaism\", sum_array_udf(\"afinn_scores_judaism\").cast(\"int\"))"
   ]
  },
  {
   "cell_type": "code",
   "execution_count": 63,
   "id": "c9d6d4f4",
   "metadata": {},
   "outputs": [],
   "source": [
    "df_exploded_buddhism = cleanTweetsDF2.select(\"index\", F.explode(F.col(\"words\")).alias(\"word\"))\n",
    "df_scored_buddhism = df_exploded_buddhism.join(buddhismDF, \"word\")\n",
    "df_grouped_buddhism = df_scored_buddhism.groupBy(df_scored_buddhism.index).agg(F.collect_list(\"score\").alias(\"afinn_scores_buddhism\"))\n",
    "\n",
    "cleanTweetsDF2 = cleanTweetsDF2.join(df_grouped_buddhism, 'index', 'outer')\n",
    "cleanTweetsDF2 = cleanTweetsDF2.withColumn(\"sentiment_buddhism\", sum_array_udf(\"afinn_scores_buddhism\").cast(\"int\"))"
   ]
  },
  {
   "cell_type": "code",
   "execution_count": 64,
   "id": "7e81e4eb",
   "metadata": {},
   "outputs": [],
   "source": [
    "df_exploded_hinduism = cleanTweetsDF2.select(\"index\", F.explode(F.col(\"words\")).alias(\"word\"))\n",
    "df_scored_hinduism = df_exploded_hinduism.join(hinduismDF, \"word\")\n",
    "df_grouped_hinduism = df_scored_hinduism.groupBy(df_scored_hinduism.index).agg(F.collect_list(\"score\").alias(\"afinn_scores_hinduism\"))\n",
    "\n",
    "cleanTweetsDF2 = cleanTweetsDF2.join(df_grouped_hinduism, 'index', 'outer')\n",
    "cleanTweetsDF2 = cleanTweetsDF2.withColumn(\"sentiment_hinduism\", sum_array_udf(\"afinn_scores_hinduism\").cast(\"int\"))"
   ]
  },
  {
   "cell_type": "code",
   "execution_count": 65,
   "id": "741369e0",
   "metadata": {},
   "outputs": [],
   "source": [
    "def religion_category(christianity, islam, judaism, buddhism, hinduism):\n",
    "\n",
    "  if abs(christianity) > max(abs(islam),abs(judaism),abs(buddhism),abs(hinduism)):\n",
    "    return 1\n",
    "  if abs(islam) > max(abs(christianity),abs(judaism),abs(buddhism),abs(hinduism)):\n",
    "    return 2\n",
    "  if abs(judaism) > max(abs(christianity),abs(islam),abs(buddhism),abs(hinduism)):\n",
    "    return 3\n",
    "  if abs(buddhism) > max(abs(christianity),abs(islam),abs(judaism),abs(hinduism)):\n",
    "    return 4\n",
    "  if abs(hinduism) > max(abs(christianity),abs(islam),abs(judaism),abs(buddhism)):\n",
    "    return 5\n",
    "  else:\n",
    "    return 0\n",
    "\n",
    "rel_cat = F.udf(religion_category, T.IntegerType())"
   ]
  },
  {
   "cell_type": "code",
   "execution_count": 66,
   "id": "20d51eae",
   "metadata": {},
   "outputs": [],
   "source": [
    "cleanTweetsDF2 = cleanTweetsDF2.withColumn('category', rel_cat('sentiment_christianity','sentiment_islam','sentiment_judaism','sentiment_buddhism','sentiment_hinduism'))"
   ]
  },
  {
   "cell_type": "code",
   "execution_count": 67,
   "id": "eb35b0b7",
   "metadata": {},
   "outputs": [
    {
     "data": {
      "text/plain": [
       "[('index', 'bigint'),\n",
       " ('text', 'string'),\n",
       " ('clean_text', 'string'),\n",
       " ('words', 'array<string>'),\n",
       " ('afinn_scores_christianity', 'array<int>'),\n",
       " ('sentiment_christianity', 'int'),\n",
       " ('afinn_scores_islam', 'array<int>'),\n",
       " ('sentiment_islam', 'int'),\n",
       " ('afinn_scores_judaism', 'array<int>'),\n",
       " ('sentiment_judaism', 'int'),\n",
       " ('afinn_scores_buddhism', 'array<int>'),\n",
       " ('sentiment_buddhism', 'int'),\n",
       " ('afinn_scores_hinduism', 'array<int>'),\n",
       " ('sentiment_hinduism', 'int'),\n",
       " ('category', 'int')]"
      ]
     },
     "execution_count": 67,
     "metadata": {},
     "output_type": "execute_result"
    }
   ],
   "source": [
    "cleanTweetsDF2.dtypes"
   ]
  },
  {
   "cell_type": "code",
   "execution_count": 97,
   "id": "0d80cbc6",
   "metadata": {},
   "outputs": [],
   "source": [
    "cleanTweetsDF2 = cleanTweetsDF2.select('clean_text','words','category').persist()"
   ]
  },
  {
   "attachments": {},
   "cell_type": "markdown",
   "id": "5d2a0eb8",
   "metadata": {},
   "source": [
    "# Model Two: Predicting Religious Overlap"
   ]
  },
  {
   "cell_type": "code",
   "execution_count": 74,
   "id": "7363deae",
   "metadata": {},
   "outputs": [],
   "source": [
    "pipelineFit2 = pipeline.fit(cleanTweetsDF2)\n",
    "dataset2 = pipelineFit2.transform(cleanTweetsDF2)\n",
    "#dataset2.show(5)"
   ]
  },
  {
   "cell_type": "code",
   "execution_count": 75,
   "id": "e02afef5",
   "metadata": {},
   "outputs": [
    {
     "name": "stdout",
     "output_type": "stream",
     "text": [
      "Training Dataset2 Count: 116601\n",
      "Test Dataset2 Count: 49944\n"
     ]
    }
   ],
   "source": [
    "(trainingData2, testData2) = dataset2.randomSplit([0.7, 0.3], seed = 100)\n",
    "print(\"Training Dataset2 Count: \" + str(trainingData2.count()))\n",
    "print(\"Test Dataset2 Count: \" + str(testData2.count()))"
   ]
  },
  {
   "cell_type": "code",
   "execution_count": 71,
   "id": "de030096",
   "metadata": {},
   "outputs": [
    {
     "data": {
      "text/plain": [
       "DataFrame[words: array<string>, category: int, rawFeatures: vector, features: vector, label: double]"
      ]
     },
     "execution_count": 71,
     "metadata": {},
     "output_type": "execute_result"
    }
   ],
   "source": [
    "trainingData2"
   ]
  },
  {
   "cell_type": "code",
   "execution_count": 72,
   "id": "1226e8c7",
   "metadata": {},
   "outputs": [
    {
     "data": {
      "text/plain": [
       "DataFrame[words: array<string>, category: int, rawFeatures: vector, features: vector, label: double]"
      ]
     },
     "execution_count": 72,
     "metadata": {},
     "output_type": "execute_result"
    }
   ],
   "source": [
    "testData2"
   ]
  },
  {
   "cell_type": "code",
   "execution_count": 101,
   "id": "57cc6137",
   "metadata": {},
   "outputs": [
    {
     "data": {
      "text/plain": [
       "DataFrame[clean_text: string, words: array<string>, category: int, rawFeatures: vector, features: vector, label: double]"
      ]
     },
     "execution_count": 101,
     "metadata": {},
     "output_type": "execute_result"
    }
   ],
   "source": [
    "trainingData2.cache()"
   ]
  },
  {
   "cell_type": "code",
   "execution_count": 100,
   "id": "7e00d942",
   "metadata": {},
   "outputs": [
    {
     "data": {
      "text/plain": [
       "DataFrame[clean_text: string, words: array<string>, category: int, rawFeatures: vector, features: vector, label: double]"
      ]
     },
     "execution_count": 100,
     "metadata": {},
     "output_type": "execute_result"
    }
   ],
   "source": [
    "testData2.cache()"
   ]
  },
  {
   "attachments": {},
   "cell_type": "markdown",
   "id": "eec544cb",
   "metadata": {},
   "source": [
    "## Logistic Regression using Count Vector"
   ]
  },
  {
   "cell_type": "code",
   "execution_count": 76,
   "id": "c9d9a0a1",
   "metadata": {},
   "outputs": [
    {
     "name": "stdout",
     "output_type": "stream",
     "text": [
      "+------------------------------+--------+------------------------------+-----+----------+\n",
      "|                    clean_text|category|                   probability|label|prediction|\n",
      "+------------------------------+--------+------------------------------+-----+----------+\n",
      "|flugreisen in der coronakri...|       0|[0.9815692098740764,0.01109...|  0.0|       0.0|\n",
      "|houbizjournal do in person ...|       0|[0.9806217054829403,0.01225...|  0.0|       0.0|\n",
      "|davidharsanyi do in person ...|       0|[0.976329058089783,0.016040...|  0.0|       0.0|\n",
      "|covid19 vaccine covishield ...|       0|[0.975454057021414,0.014255...|  0.0|       0.0|\n",
      "|jammuandkashmir constructio...|       0|[0.9749088304383304,0.00662...|  0.0|       0.0|\n",
      "|murielvieux do in person ea...|       0|[0.9714742552801381,0.01218...|  0.0|       0.0|\n",
      "|realmattcouch do in person ...|       0|[0.9697733746606325,0.01101...|  0.0|       0.0|\n",
      "|gzzyzyx markp1950 ukrainetr...|       0|[0.9696758506367542,0.01081...|  0.0|       0.0|\n",
      "|bsloopjohn do in person ear...|       0|[0.9691178367477536,0.01984...|  0.0|       0.0|\n",
      "|10milesbadroad do in person...|       0|[0.9644724883088798,0.01594...|  0.0|       0.0|\n",
      "+------------------------------+--------+------------------------------+-----+----------+\n",
      "only showing top 10 rows\n",
      "\n"
     ]
    }
   ],
   "source": [
    "lr2 = LogisticRegression(maxIter=20, regParam=0.3, elasticNetParam=0)\n",
    "lrModel2 = lr2.fit(trainingData)\n",
    "\n",
    "predictions2 = lrModel2.transform(testData2)\n",
    "\n",
    "predictions2.filter(predictions2['prediction'] == 0).select(\"clean_text\",\"category\",\"probability\",\"label\",\"prediction\")\\\n",
    ".orderBy(\"probability\", ascending=False).show(n = 10, truncate = 30)"
   ]
  },
  {
   "cell_type": "code",
   "execution_count": 77,
   "id": "23beb79b",
   "metadata": {},
   "outputs": [
    {
     "name": "stdout",
     "output_type": "stream",
     "text": [
      "0.6768067158118938\n"
     ]
    }
   ],
   "source": [
    "lr_CV_Accuracy2 = evaluator.evaluate(predictions2)\n",
    "print(lr_CV_Accuracy2)"
   ]
  },
  {
   "attachments": {},
   "cell_type": "markdown",
   "id": "0d1fa8b4",
   "metadata": {},
   "source": [
    "## Logistic Regression using TF-IDF"
   ]
  },
  {
   "cell_type": "code",
   "execution_count": 78,
   "id": "bb2174d5",
   "metadata": {},
   "outputs": [
    {
     "name": "stdout",
     "output_type": "stream",
     "text": [
      "+------------------------------+--------+------------------------------+-----+----------+\n",
      "|                    clean_text|category|                   probability|label|prediction|\n",
      "+------------------------------+--------+------------------------------+-----+----------+\n",
      "|this bilobed hemangiopericy...|       0|[0.9946075081623563,0.00226...|  0.0|       0.0|\n",
      "|1521 the usa reported 58407...|       0|[0.9939686770528416,0.00246...|  0.0|       0.0|\n",
      "|dnc ind 509k usa 485k bra 1...|       0|[0.9930815271532797,0.00274...|  0.0|       0.0|\n",
      "|hmm exam se nahi dar rahe h...|       0|[0.9922422781515446,0.00391...|  0.0|       0.0|\n",
      "|rlfreedm inc_yv jcorippo mr...|       0|[0.9919485050090903,0.00394...|  0.0|       0.0|\n",
      "|places are available today ...|       0|[0.9913328531977125,0.00384...|  0.0|       0.0|\n",
      "|debrennie2 leahr77 vfl2013 ...|       0|[0.9907963425516867,0.00440...|  0.0|       0.0|\n",
      "|byo power cables table chai...|       0|[0.990675157180262,0.004150...|  0.0|       0.0|\n",
      "|shaunratcliff benraue left ...|       0|[0.9903081802833194,0.00422...|  0.0|       0.0|\n",
      "|zoom meetings today with se...|       0|[0.9897030889991515,0.00503...|  0.0|       0.0|\n",
      "+------------------------------+--------+------------------------------+-----+----------+\n",
      "only showing top 10 rows\n",
      "\n"
     ]
    }
   ],
   "source": [
    "lr3 = LogisticRegression(maxIter=20, regParam=0.3, elasticNetParam=0)\n",
    "lrModel3 = lr3.fit(trainingData2)\n",
    "\n",
    "predictions3 = lrModel3.transform(testData2)\n",
    "\n",
    "predictions3.filter(predictions3['prediction'] == 0) \\\n",
    "    .select(\"clean_text\",\"category\",\"probability\",\"label\",\"prediction\") \\\n",
    "    .orderBy(\"probability\", ascending=False) \\\n",
    "    .cache()"
   ]
  },
  {
   "cell_type": "code",
   "execution_count": 102,
   "id": "4de597a8",
   "metadata": {},
   "outputs": [
    {
     "name": "stdout",
     "output_type": "stream",
     "text": [
      "0.9173928751908059\n"
     ]
    }
   ],
   "source": [
    "lr_TFIDF_Accuracy2 = evaluator.evaluate(predictions3)\n",
    "print(lr_TFIDF_Accuracy2)"
   ]
  },
  {
   "cell_type": "code",
   "execution_count": null,
   "id": "61f59c47",
   "metadata": {},
   "outputs": [],
   "source": [
    "predictions3.unpersist()"
   ]
  },
  {
   "attachments": {},
   "cell_type": "markdown",
   "id": "3001911c",
   "metadata": {},
   "source": [
    "## Naive Bayes "
   ]
  },
  {
   "cell_type": "code",
   "execution_count": 103,
   "id": "dc475583",
   "metadata": {},
   "outputs": [
    {
     "data": {
      "text/plain": [
       "DataFrame[clean_text: string, category: int, probability: vector, label: double, prediction: double]"
      ]
     },
     "execution_count": 103,
     "metadata": {},
     "output_type": "execute_result"
    }
   ],
   "source": [
    "nbModel2 = nb.fit(trainingData2)\n",
    "predictions4 = nbModel2.transform(testData2)\n",
    "predictions4.filter(predictions4['prediction'] == 0) \\\n",
    "    .select(\"clean_text\",\"category\",\"probability\",\"label\",\"prediction\") \\\n",
    "    .orderBy(\"probability\", ascending=False) \\\n",
    "    .cache()"
   ]
  },
  {
   "cell_type": "code",
   "execution_count": 104,
   "id": "30556ebb",
   "metadata": {},
   "outputs": [
    {
     "name": "stdout",
     "output_type": "stream",
     "text": [
      "0.8459593972937063\n"
     ]
    }
   ],
   "source": [
    "nbAccuracy2 = evaluator.evaluate(predictions4)\n",
    "print(nbAccuracy2)"
   ]
  },
  {
   "cell_type": "code",
   "execution_count": 105,
   "id": "a9da1012",
   "metadata": {},
   "outputs": [
    {
     "data": {
      "text/plain": [
       "DataFrame[clean_text: string, words: array<string>, category: int, rawFeatures: vector, features: vector, label: double, rawPrediction: vector, probability: vector, prediction: double]"
      ]
     },
     "execution_count": 105,
     "metadata": {},
     "output_type": "execute_result"
    }
   ],
   "source": [
    "predictions4.unpersist()"
   ]
  },
  {
   "attachments": {},
   "cell_type": "markdown",
   "id": "86d99ff3",
   "metadata": {},
   "source": [
    "## Decision Tree Classification"
   ]
  },
  {
   "cell_type": "code",
   "execution_count": 106,
   "id": "5350f809",
   "metadata": {},
   "outputs": [
    {
     "data": {
      "text/plain": [
       "DataFrame[clean_text: string, category: int, probability: vector, label: double, prediction: double]"
      ]
     },
     "execution_count": 106,
     "metadata": {},
     "output_type": "execute_result"
    }
   ],
   "source": [
    "dtModel2 = dt.fit(trainingData2)\n",
    "predictions5 = dtModel2.transform(testData2)\n",
    "predictions5.filter(predictions5['prediction'] == 0) \\\n",
    "    .select(\"clean_text\",\"category\",\"probability\",\"label\",\"prediction\") \\\n",
    "    .orderBy(\"probability\", ascending=False) \\\n",
    "    .cache()"
   ]
  },
  {
   "cell_type": "code",
   "execution_count": 107,
   "id": "abfa4006",
   "metadata": {},
   "outputs": [
    {
     "name": "stdout",
     "output_type": "stream",
     "text": [
      "0.6768067158118938\n"
     ]
    }
   ],
   "source": [
    "dtAccuracy2 = evaluator.evaluate(predictions2)\n",
    "print(dtAccuracy2) "
   ]
  },
  {
   "cell_type": "code",
   "execution_count": 108,
   "id": "9e11eb84",
   "metadata": {},
   "outputs": [
    {
     "data": {
      "text/plain": [
       "DataFrame[clean_text: string, words: array<string>, category: int, rawFeatures: vector, features: vector, label: double, rawPrediction: vector, probability: vector, prediction: double]"
      ]
     },
     "execution_count": 108,
     "metadata": {},
     "output_type": "execute_result"
    }
   ],
   "source": [
    "predictions5.unpersist()"
   ]
  },
  {
   "attachments": {},
   "cell_type": "markdown",
   "id": "a227df75",
   "metadata": {},
   "source": [
    "## Random Forest Classification"
   ]
  },
  {
   "cell_type": "code",
   "execution_count": 118,
   "id": "295ee611",
   "metadata": {},
   "outputs": [
    {
     "data": {
      "text/plain": [
       "DataFrame[clean_text: string, category: int, probability: vector, label: double, prediction: double]"
      ]
     },
     "execution_count": 118,
     "metadata": {},
     "output_type": "execute_result"
    }
   ],
   "source": [
    "rfModel2 = rf.fit(trainingData2)\n",
    "rfPredictions2 = rfModel2.transform(testData2)\n",
    "rfPredictions2.filter(rfPredictions2['prediction'] == 0) \\\n",
    "    .select(\"clean_text\",\"category\",\"probability\",\"label\",\"prediction\") \\\n",
    "    .orderBy(\"probability\", ascending=False) \\\n",
    "    .cache()"
   ]
  },
  {
   "cell_type": "code",
   "execution_count": 110,
   "id": "8548035a",
   "metadata": {},
   "outputs": [
    {
     "name": "stdout",
     "output_type": "stream",
     "text": [
      "0.9110936816806574\n"
     ]
    }
   ],
   "source": [
    "rfAccuracy2 = rfEvaluator.evaluate(rfPredictions)\n",
    "print(rfAccuracy2) "
   ]
  },
  {
   "cell_type": "code",
   "execution_count": 111,
   "id": "b226c510",
   "metadata": {},
   "outputs": [
    {
     "data": {
      "text/plain": [
       "DataFrame[clean_text: string, words: array<string>, category: int, rawFeatures: vector, features: vector, label: double, rawPrediction: vector, probability: vector, prediction: double]"
      ]
     },
     "execution_count": 111,
     "metadata": {},
     "output_type": "execute_result"
    }
   ],
   "source": [
    "rfPredictions2.unpersist()"
   ]
  },
  {
   "attachments": {},
   "cell_type": "markdown",
   "id": "35b97966",
   "metadata": {},
   "source": [
    "## OnevsRest Classification Model"
   ]
  },
  {
   "cell_type": "code",
   "execution_count": 119,
   "id": "6f06b675",
   "metadata": {},
   "outputs": [
    {
     "data": {
      "text/plain": [
       "DataFrame[clean_text: string, category: int, label: double, prediction: double]"
      ]
     },
     "execution_count": 119,
     "metadata": {},
     "output_type": "execute_result"
    }
   ],
   "source": [
    "ovrLR = LogisticRegression(maxIter=20, regParam=0.3, elasticNetParam=0)\n",
    "\n",
    "ovr = OneVsRest(classifier=ovrLR)\n",
    "\n",
    "ovrModel2 = ovr.fit(trainingData2)\n",
    "\n",
    "ovrPredictions2 = ovrModel2.transform(testData2)\n",
    "\n",
    "ovrPredictions2.filter(ovrPredictions2['prediction'] == 0) \\\n",
    "    .select(\"clean_text\",\"category\",\"label\",\"prediction\") \\\n",
    "    .cache()"
   ]
  },
  {
   "cell_type": "code",
   "execution_count": 121,
   "id": "905852db",
   "metadata": {},
   "outputs": [
    {
     "name": "stdout",
     "output_type": "stream",
     "text": [
      "0.7389304474385188\n"
     ]
    }
   ],
   "source": [
    "print(ovrAccuracy)"
   ]
  },
  {
   "cell_type": "code",
   "execution_count": 122,
   "id": "4e2bc5b0",
   "metadata": {},
   "outputs": [
    {
     "data": {
      "text/plain": [
       "DataFrame[clean_text: string, words: array<string>, category: int, rawFeatures: vector, features: vector, label: double, rawPrediction: string, prediction: double]"
      ]
     },
     "execution_count": 122,
     "metadata": {},
     "output_type": "execute_result"
    }
   ],
   "source": [
    "ovrPredictions2.unpersist()"
   ]
  },
  {
   "attachments": {},
   "cell_type": "markdown",
   "id": "021876b3",
   "metadata": {},
   "source": [
    "## Model Two Visualization"
   ]
  },
  {
   "cell_type": "code",
   "execution_count": 123,
   "id": "c5155272",
   "metadata": {},
   "outputs": [
    {
     "data": {
      "image/png": "[encoded data removed]",
      "text/plain": [
       "<Figure size 640x480 with 1 Axes>"
      ]
     },
     "metadata": {},
     "output_type": "display_data"
    }
   ],
   "source": [
    "model = ['LR CV', 'LR TF-IDF', 'Naive Bayes', 'Random Forest', 'OneVsRest']\n",
    "accuracy = [lr_CV_Accuracy2, lr_TFIDF_Accuracy2, nbAccuracy2, rfAccuracy2, ovrAccuracy]\n",
    "\n",
    "plot_bar_x()"
   ]
  }
 ],
 "metadata": {
  "kernelspec": {
   "display_name": "Python 3 (ipykernel)",
   "language": "python",
   "name": "python3"
  },
  "language_info": {
   "codemirror_mode": {
    "name": "ipython",
    "version": 3
   },
   "file_extension": ".py",
   "mimetype": "text/x-python",
   "name": "python",
   "nbconvert_exporter": "python",
   "pygments_lexer": "ipython3",
   "version": "3.10.11"
  }
 },
 "nbformat": 4,
 "nbformat_minor": 5
}
